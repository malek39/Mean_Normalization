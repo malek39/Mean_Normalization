{
 "cells": [
  {
   "cell_type": "markdown",
   "metadata": {},
   "source": [
    "# Mean Normalization\n",
    "\n",
    "In machine learning we use large amounts of data to train our models. Some machine learning algorithms may require that the data is *normalized* in order to work correctly. The idea of normalization, also known as *feature scaling*, is to ensure that all the data is on a similar scale, *i.e.* that all the data takes on a similar range of values. For example, we might have a dataset that has values between 0 and 5,000. By normalizing the data we can make the range of values be between 0 and 1.\n",
    "\n",
    "In this lab, you will be performing a different kind of feature scaling known as *mean normalization*. Mean normalization will scale the data, but instead of making the values be between 0 and 1, it will distribute the values evenly in some small interval around zero. For example, if we have a dataset that has values between 0 and 5,000, after mean normalization the range of values will be distributed in some small range around 0, for example between -3 to 3. Because the range of values are distributed evenly around zero, this guarantees that the average (mean) of all elements will be zero. Therefore, when you perform *mean normalization* your data will not only be scaled but it will also have an average of zero. \n",
    "\n",
    "# To Do:\n",
    "\n",
    "You will start by importing NumPy and creating a rank 2 ndarray of random integers between 0 and 5,000 (inclusive) with 1000 rows and 20 columns. This array will simulate a dataset with a wide range of values. Fill in the code below"
   ]
  },
  {
   "cell_type": "code",
   "execution_count": 2,
   "metadata": {},
   "outputs": [
    {
     "data": {
      "text/plain": [
       "(1000, 20)"
      ]
     },
     "execution_count": 2,
     "metadata": {},
     "output_type": "execute_result"
    }
   ],
   "source": [
    "# import NumPy into Python\n",
    "import numpy as np\n",
    "\n",
    "# Create a 1000 x 20 ndarray with random integers in the half-open interval [0, 5001).\n",
    "X = np.random.randint(0, 5001, (1000,20))\n",
    "\n",
    "# print the shape of X\n",
    "X.shape"
   ]
  },
  {
   "cell_type": "markdown",
   "metadata": {},
   "source": [
    "Now that you created the array we will mean normalize it. We will perform mean normalization using the following equation:\n",
    "\n",
    "$\\mbox{Norm_Col}_i = \\frac{\\mbox{Col}_i - \\mu_i}{\\sigma_i}$\n",
    "\n",
    "where $\\mbox{Col}_i$ is the $i$th column of $X$, $\\mu_i$ is average of the values in the $i$th column of $X$, and $\\sigma_i$ is the standard deviation of the values in the $i$th column of $X$. In other words, mean normalization is performed by subtracting from each column of $X$ the average of its values, and then by dividing by the standard deviation of its values. In the space below, you will first calculate the average and standard deviation of each column of $X$. "
   ]
  },
  {
   "cell_type": "code",
   "execution_count": 4,
   "metadata": {},
   "outputs": [],
   "source": [
    "# Average of the values in each column of X\n",
    "ave_cols = np.mean(X, axis=0)\n",
    "\n",
    "# Standard Deviation of the values in each column of X\n",
    "std_cols = X.std(axis=0)"
   ]
  },
  {
   "cell_type": "markdown",
   "metadata": {},
   "source": [
    "If you have done the above calculations correctly, then `ave_cols` and `std_cols`, should both be vectors with shape `(20,)` since $X$ has 20 columns. You can verify this by filling the code below:"
   ]
  },
  {
   "cell_type": "code",
   "execution_count": 5,
   "metadata": {},
   "outputs": [
    {
     "name": "stdout",
     "output_type": "stream",
     "text": [
      "(20,)\n",
      "(20,)\n"
     ]
    }
   ],
   "source": [
    "# Print the shape of ave_cols\n",
    "print(ave_cols.shape)\n",
    "\n",
    "# Print the shape of std_cols\n",
    "print(std_cols.shape)"
   ]
  },
  {
   "cell_type": "markdown",
   "metadata": {},
   "source": [
    "You can now take advantage of Broadcasting to calculate the mean normalized version of $X$ in just one line of code using the equation above. Fill in the code below"
   ]
  },
  {
   "cell_type": "code",
   "execution_count": 6,
   "metadata": {},
   "outputs": [],
   "source": [
    "# Mean normalize X\n",
    "X_norm = (X - ave_cols)/std_cols"
   ]
  },
  {
   "cell_type": "markdown",
   "metadata": {},
   "source": [
    "If you have performed the mean normalization correctly, then the average of all the elements in $X_{\\tiny{\\mbox{norm}}}$ should be close to zero, and they should be evenly distributed in some small interval around zero. You can verify this by filing the code below:"
   ]
  },
  {
   "cell_type": "code",
   "execution_count": 7,
   "metadata": {},
   "outputs": [
    {
     "name": "stdout",
     "output_type": "stream",
     "text": [
      "[ -1.96620498e-16  -4.27435864e-17   7.21644966e-17  -5.05151476e-18\n",
      "   5.66213743e-17   5.04041253e-17   2.49800181e-19  -5.11812814e-17\n",
      "  -5.44009282e-17  -8.61810623e-18  -1.95399252e-17   2.02060590e-17\n",
      "  -1.27786670e-16  -9.23705556e-17  -1.82076576e-17   1.05693232e-16\n",
      "   6.79178935e-17  -8.90398866e-17  -9.05846578e-17   1.14908083e-16]\n",
      "[-1.65825803 -1.67835738 -1.69767604 -1.65751323 -1.73108165 -1.68365408\n",
      " -1.72794482 -1.7266269  -1.76030279 -1.72509139 -1.73223759 -1.80335676\n",
      " -1.70940429 -1.75742558 -1.69768608 -1.76252397 -1.75406393 -1.75181665\n",
      " -1.76340714 -1.61576691]\n",
      "[ 1.71551493  1.76690752  1.7430998   1.76427862  1.66096706  1.75362736\n",
      "  1.68000142  1.70456317  1.68362579  1.75239787  1.77399847  1.68127409\n",
      "  1.73933248  1.75093445  1.70910842  1.69513802  1.64647939  1.79320031\n",
      "  1.75436004  1.76332889]\n"
     ]
    }
   ],
   "source": [
    "# Print the average of all the values of X_norm\n",
    "print(np.mean(X_norm, axis=0))\n",
    "\n",
    "# Print the average of the minimum value in each column of X_norm\n",
    "print(np.min(X_norm, axis=0))\n",
    "\n",
    "# Print the average of the maximum value in each column of X_norm\n",
    "print(np.max(X_norm, axis=0 ))"
   ]
  },
  {
   "cell_type": "markdown",
   "metadata": {},
   "source": [
    "You should note that since $X$ was created using random integers, the above values will vary. \n",
    "\n",
    "# Data Separation\n",
    "\n",
    "After the data has been mean normalized, it is customary in machine learnig to split our dataset into three sets:\n",
    "\n",
    "1. A Training Set\n",
    "2. A Cross Validation Set\n",
    "3. A Test Set\n",
    "\n",
    "The dataset is usually divided such that the Training Set contains 60% of the data, the Cross Validation Set contains 20% of the data, and the Test Set contains 20% of the data. \n",
    "\n",
    "In this part of the lab you will separate `X_norm` into a Training Set, Cross Validation Set, and a Test Set. Each data set will contain rows of `X_norm` chosen at random, making sure that we don't pick the same row twice. This will guarantee that all the rows of `X_norm` are chosen and randomly distributed among the three new sets.\n",
    "\n",
    "You will start by creating a rank 1 ndarray that contains a random permutation of the row indices of `X_norm`. You can do this by using the `np.random.permutation()` function. The `np.random.permutation(N)` function creates a random permutation of integers from 0 to `N - 1`. Let's see an example:"
   ]
  },
  {
   "cell_type": "code",
   "execution_count": 8,
   "metadata": {},
   "outputs": [
    {
     "data": {
      "text/plain": [
       "array([3, 2, 1, 4, 0])"
      ]
     },
     "execution_count": 8,
     "metadata": {},
     "output_type": "execute_result"
    }
   ],
   "source": [
    "# We create a random permutation of integers 0 to 4\n",
    "np.random.permutation(5)"
   ]
  },
  {
   "cell_type": "markdown",
   "metadata": {},
   "source": [
    "# To Do\n",
    "\n",
    "In the space below create a rank 1 ndarray that contains a random permutation of the row indices of `X_norm`. You can do this in one line of code by extracting the number of rows of `X_norm` using the `shape` attribute and then passing it to the  `np.random.permutation()` function. Remember the `shape` attribute returns a tuple with two numbers in the form `(rows,columns)`."
   ]
  },
  {
   "cell_type": "code",
   "execution_count": 9,
   "metadata": {},
   "outputs": [
    {
     "name": "stdout",
     "output_type": "stream",
     "text": [
      "[820 755  62 768   9 754 274 969 406 375 984  20 556 971 509 782 473  67\n",
      " 495  81 955 990 513  95 986 403 958 106 397   5 805 382 551 341 456 278\n",
      " 332 740 273  97 515 131 569 370  27 601 752 432 602 645 657 471 872 143\n",
      " 307 788 912 853 140 935 809 850 739 832 753 726 298 282 202 225 766 507\n",
      " 690  71   2 665 231 644 985 264 163 960 710  37  34 584 731 587  77 276\n",
      " 318 586 235 775 581 841 123 865  91 305 845 550 945 504 843 772 977 412\n",
      " 558 567 765 155  25 600 808 910 857 502  82 534 367 552 736 961 477 801\n",
      " 384 943  42 184 879 792 730 518 277 890 229 779 484 302 629 316 847 500\n",
      " 616 170 632 757 289 286 194  90 759 309 975 802  31 937 728 705 463 315\n",
      " 465 815 887 860 195 746 931 577  80  52 670 816 785 580 640 174 769 236\n",
      " 189 803 712 641 427 883   4 399 196 904 108 324 369 920 919 145 297 756\n",
      " 956  64 129  43 672  68 913 606 797 139 909 441 923 430 520  46 590 747\n",
      " 234  58 930 321 814  99 948 261 319 169 414 651 588 704 685 711 134 781\n",
      " 304 371 840 818 373 656 906 148 351 454 914 780 619 175 270 228 684 609\n",
      " 608 413 898 105 262 308 647 395 160 591 447 729 767 181 482  28 724 150\n",
      "  22 974 438 889 424 886  53 949 655 842 844 662 233 639 340 533 798 966\n",
      " 536 467 204 900 442 366 164 864 191  18 365 494 383 423 168 894 732  89\n",
      "  32 207 598 326 793 416 635  14 363 970 391 880 547 589 572 560 773 203\n",
      " 356 902 885 858 691 408 861 791   1 972 498 445 706  65 272 347 926 237\n",
      " 418 994 114 624 159 206 663 874 866 306 358 190 342 348 807 415 208 193\n",
      " 501 325 464 505 650 688 554 333  87 897 124 774 511 630 255 461 778 243\n",
      " 130  60 310 503 506 330 545 448 183 153 633 921 654 295 280 322 836  12\n",
      " 997 738 901 643 376 950  13 179  30   0 312 242 217  61 698 786 607 301\n",
      " 771 209 653 238 813 103 428 516 570 468 695 405  63 381 776 192 941 285\n",
      " 449 485 497 100 253 852 201 223 996 770 878 393 158 681 138 257 152 275\n",
      " 303 300 374 978  10 745 288  92 491 252 313 882 216 431 823 149 854 113\n",
      " 733 582 922 260 613 539 828 799 187 147 652 863 893 743 646 899 571 716\n",
      " 585 462 626 293 692 283 689 246 794  79 267 122 241 220 535 703 429 530\n",
      " 548 811  83 166  69 973 133 881 198 576 211 214 933 998 171 992   6 727\n",
      "   8 804 489 957 751 671 562  29 457 240 549 929 379 157 987 455 144  16\n",
      "  70 407 450 812 599 290 361 669 561 888  21  84 742  39 329 352 311 989\n",
      " 764 557  40 674  76   7 642 834 266 563 876 522 335 976 713 777 867 553\n",
      " 784 132 338 409 829 294 537 118 628  94 398  23 915 824 514 385 524  19\n",
      "  49 102 528 693 718 916 932 126 734 940 638 182 136 593 559 268 378 789\n",
      " 185 161  55 595 934 965 981 891 479 884 849 372 664  33  57 480 420 180\n",
      " 472  56 317 668 719 995 540 222 221 856 328 499 173 320 825 750 245 822\n",
      " 486 521 928 679 946 459 111 701 944 578 453 566 574 377 460 623 918 162\n",
      " 787 658 979 452 903  86 612  75 334 938 167 610 715 443 868 265  17 269\n",
      " 244 939 627 694 291 519 435 925 737 466 256 279 186 783 806 360 621  47\n",
      " 109 538 343 205 339 544 835 446 248  98 859 425 911 983 483 259 386 137\n",
      " 421 120 907 666 510  41 837 517 475 952 620 683 594 800 178  54 337 526\n",
      " 700 862 250  24 380 433   3 982 527  74 151 846 618 296 390 177 687 924\n",
      " 993 760 488 426 546 947 411  66 200 748 141 927 696 896 127 469  73 525\n",
      " 101 649 659 565 437 299 875 709 999 611 146 247 579 758 212 573 575  50\n",
      " 434 980 172  38 389 908 953 444  72 271 117 119 128 917 661 848 349 254\n",
      "  59 686 387 364 702 188 419 604 762 568 790 725 478 353 230 210 605  51\n",
      " 673 869 821 603 877 346  11 723 744 422 699 345 682  88 722 232 410 116\n",
      " 165 107 634 199 532 125 112 451 817 496 357 512 810 251 622 962 963 439\n",
      " 323 541 614 492  44 795 218 110 615  45 714 831 249 104 895 401 436 749\n",
      " 476 523 481 344 680 336 508 215 942 675 490  35 625 833 531 226 648 564\n",
      " 281 176 592 827 292 404 676 331  26 142 967 697 359 555 631 470 135  36\n",
      " 417  93 951 678 263 892  78 660 529 154 487 219 224 197 796 873 542 596\n",
      " 355 350 761 905 708 741 314 968 839 400 637 721 239 826 440 583 636 763\n",
      " 936 258 227 156 871 493 402 830 838  15 677 991 287 213  96 851 284 720\n",
      " 735 121 988 855  48 597 707 954 717 115  85 327 959 543 368 458 964 819\n",
      " 362 392 617 870 354 388 474 396 394 667]\n"
     ]
    }
   ],
   "source": [
    "# Create a rank 1 ndarray that contains a random permutation of the row indices of `X_norm`\n",
    "row_indices = np.random.permutation(X_norm.shape[0])\n",
    "print(row_indices)"
   ]
  },
  {
   "cell_type": "markdown",
   "metadata": {},
   "source": [
    "Now you can create the three datasets using the `row_indices` ndarray to select the rows that will go into each dataset. Rememeber that the Training Set contains 60% of the data, the Cross Validation Set contains 20% of the data, and the Test Set contains 20% of the data. Each set requires just one line of code to create. Fill in the code below"
   ]
  },
  {
   "cell_type": "code",
   "execution_count": 10,
   "metadata": {},
   "outputs": [
    {
     "name": "stdout",
     "output_type": "stream",
     "text": [
      "[[ 1.40690519  0.96303538 -0.1420868  ..., -0.70339069 -0.79427673\n",
      "  -1.31757153]\n",
      " [-1.37395891  0.50969289  0.78809488 ..., -0.33921559 -0.04927975\n",
      "  -0.43992832]\n",
      " [ 0.38450882  0.42689061  0.68535428 ..., -0.88832335 -1.01770534\n",
      "  -0.99836693]\n",
      " ..., \n",
      " [ 0.68433973 -1.46100139  0.80602277 ..., -0.00420295  0.6343977\n",
      "   1.74503054]\n",
      " [-1.59140384 -1.5265532   1.62381038 ..., -0.13152198 -1.42791181\n",
      "  -0.8757002 ]\n",
      " [ 1.19013555 -0.98281822  0.23577796 ...,  0.02922719 -0.55322757\n",
      "  -0.44399462]]\n"
     ]
    }
   ],
   "source": [
    "# Make any necessary calculations.\n",
    "# You can save your calculations into variables to use later.\n",
    "print(X_norm[row_indices[0:600]])\n",
    "\n",
    "# Create a Training Set\n",
    "X_train = X_norm[row_indices[:600]]\n",
    "\n",
    "# Create a Cross Validation Set\n",
    "X_crossVal = X_norm[row_indices[600:800]]\n",
    "\n",
    "# Create a Test Set\n",
    "X_test = X_norm[row_indices[800:]]"
   ]
  },
  {
   "cell_type": "markdown",
   "metadata": {},
   "source": [
    "If you performed the above calculations correctly, then `X_tain` should have 600 rows and 20 columns, `X_crossVal` should have 200 rows and 20 columns, and `X_test` should have 200 rows and 20 columns. You can verify this by filling the code below:"
   ]
  },
  {
   "cell_type": "code",
   "execution_count": 11,
   "metadata": {},
   "outputs": [
    {
     "name": "stdout",
     "output_type": "stream",
     "text": [
      "(600, 20)\n",
      "(200, 20)\n",
      "(200, 20)\n"
     ]
    }
   ],
   "source": [
    "# Print the shape of X_train\n",
    "print(X_train.shape)\n",
    "# Print the shape of X_crossVal\n",
    "print(X_crossVal.shape)\n",
    "# Print the shape of X_test\n",
    "print(X_test.shape)"
   ]
  },
  {
   "cell_type": "code",
   "execution_count": null,
   "metadata": {},
   "outputs": [],
   "source": []
  }
 ],
 "metadata": {
  "kernelspec": {
   "display_name": "Python 3",
   "language": "python",
   "name": "python3"
  },
  "language_info": {
   "codemirror_mode": {
    "name": "ipython",
    "version": 3
   },
   "file_extension": ".py",
   "mimetype": "text/x-python",
   "name": "python",
   "nbconvert_exporter": "python",
   "pygments_lexer": "ipython3",
   "version": "3.6.3"
  }
 },
 "nbformat": 4,
 "nbformat_minor": 2
}
